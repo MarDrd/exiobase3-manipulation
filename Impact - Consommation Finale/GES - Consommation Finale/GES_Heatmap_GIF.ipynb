{
 "cells": [
  {
   "cell_type": "markdown",
   "metadata": {},
   "source": [
    "## Construction des cartes thermiques et du GIF associé à l'impact des gaz à effet de serre (GES)"
   ]
  },
  {
   "cell_type": "code",
   "execution_count": 1,
   "metadata": {},
   "outputs": [],
   "source": [
    "#importation des librairies pandas, matplotlib, seaborn, imageio et os\n",
    "import pandas as pd\n",
    "import matplotlib.pyplot as plt\n",
    "from matplotlib.colors import LogNorm\n",
    "import seaborn as sns\n",
    "import imageio.v2 as imageio\n",
    "import os"
   ]
  },
  {
   "cell_type": "code",
   "execution_count": 2,
   "metadata": {},
   "outputs": [],
   "source": [
    "#Fonction load qui prend 'year' comme argument\n",
    "#Permet de lire le fichier csv en DataFrame \n",
    "def load(year):\n",
    "    df = pd.read_csv(f'C:\\Master 1\\exiobase3-manipulation\\Impact - Consommation Finale\\GES - Consommation Finale\\GES - Data\\df_GHG_{year}.csv')\n",
    "    #Définir l'ordre des régions dans la DataFrame pour les lignes et les colonnes\n",
    "    order = [\"Chine\", \"Etats-Unis\", \"Union européenne\", \"Asie Pacifique\", \"Inde\",   \"Afrique\", \n",
    "               \"Moyen-Orient\", \"Europe\", \"Russie\", \"Japon\", \"Amerique Latine et Caraïbes\",  \"Indonésie\",\n",
    "               \"Brésil\", \"Mexique\", \"Australie\",  \"Canada\"]\n",
    "    df = pd.DataFrame(df, index=order)\n",
    "    df = df[order]\n",
    "    \n",
    "    #Résultat de le fonction load\n",
    "    return df"
   ]
  },
  {
   "cell_type": "markdown",
   "metadata": {},
   "source": [
    "Les régions sont présentées dans chaque DataFrame dans un ordre décroissant en fonction du niveau d'émissions de GES lors de la production destinée à la consommation finale en 2022. Cela signifie que les premières régions apparaissant dans la DataFrame sont celles qui émettent le plus de GES lors de la production destinée à la consommation finale, tandis que les dernières sont celles qui émettent le moins de GES destinés à la consommation finale."
   ]
  },
  {
   "cell_type": "markdown",
   "metadata": {},
   "source": [
    "### Création des cartes thermiques"
   ]
  },
  {
   "cell_type": "code",
   "execution_count": 3,
   "metadata": {},
   "outputs": [],
   "source": [
    "#Chargement des base de données de 1995 à 2022\n",
    "#Creation d'un dictionnaire 'dfs' qui associe chaque année à une DataFrame en utilisant la fonction load\n",
    "years = list(range(1995, 2023))\n",
    "dfs = {year: load(year) for year in years}\n",
    "\n",
    "#Création d'astériques\n",
    "regions_ast = [\"Chine\", \"Etats-Unis\", \"Union\\neuropéenne$^{1}$\", \"Asie Pacifique$^{2}$\", \"Inde\",  \"Afrique$^{3}$\", \n",
    "               \"Moyen-Orient$^{4}$\", \"Europe$^{5}$\", \"Russie\",\"Japon\", \"Amerique Latine\\net Caraïbes$^{6}$\",   \"Indonésie\",\n",
    "               \"Brésil\", \"Mexique\", \"Australie\",  \"Canada\"]\n",
    "\n",
    "# Création d'un répertoire 'GHG_heatmap' pour enregistrer les cartes thermiques\n",
    "os.makedirs('GHG_heatmap', exist_ok=True)\n",
    "\n",
    "\n",
    "#Création d'une boucle pour chaque année dans le dictionnaire 'dfs'\n",
    "for year, df in dfs.items():\n",
    "    #Modifier le noms des régions des colonnes et des lignes avec la liste 'region_ast'\n",
    "    df.columns = regions_ast\n",
    "    df.index = regions_ast\n",
    "    #Donner un noms aux colonnes et aux lignes\n",
    "    df.columns.name = \"Région réceptrice d'émissions de GES\"\n",
    "    df.index.name = \"Région source d'émission de GES\"\n",
    "    \n",
    "    #Modifier la taille de la carte thermique\n",
    "    plt.figure(figsize=(30, 15))\n",
    "    \n",
    "    #Création d'une carte thermique des DataFrames\n",
    "    sns.heatmap(df, norm=LogNorm(vmin=1E09, vmax=1.214E13),\n",
    "                annot=True, cmap='YlOrRd', linewidths=0.1,\n",
    "                cbar_kws={'label': 'Emissions de GES (kg CO2 eq)'})\n",
    "    \n",
    "    #Titre de la carte thermique\n",
    "    plt.title(f\"Emissions de gaz à effet de serre associés à la consommation finale par région en {year}\", fontsize=14, fontweight='bold', y=-0.09)\n",
    "\n",
    "    #Permet d'ajuster la positions des éléments de la carte thermique\n",
    "    plt.subplots_adjust(bottom=0.3)\n",
    "    \n",
    "    #Création des notes en bas de pages associées aux astériques\n",
    "    plt.figtext(0.05, 0.07, \"$^{1}$ Représente les 27 pays actuels de l'Union européenne, indépendamment de l'année représentée.\", fontsize=10)\n",
    "    plt.figtext(0.05, 0.06, \"$^{2}$ Asie Pacifique hors Chine, Inde, Japon, Australie et Indonésie.\", fontsize=10)\n",
    "    plt.figtext(0.05, 0.05, '$^{3}$ Afrique hors Egypte.', fontsize=10)\n",
    "    plt.figtext(0.05, 0.04, '$^{4}$ Moyen-Orient hors Turquie.', fontsize=10)\n",
    "    plt.figtext(0.05, 0.03, \"$^{5}$ Europe hors les pays membres de l'UE et Russie.\", fontsize=10)\n",
    "    plt.figtext(0.05, 0.02, \"$^{6}$ Amérique Latine et Caraïbes hors Brésil et Mexique\", fontsize=10)\n",
    "\n",
    "    #Ajuster l'espacements des éléments de la carte thermique\n",
    "    plt.tight_layout(rect=[0, 0.1, 1, 0.95])\n",
    "    \n",
    "    #Sauvegarder la carte de thermique\n",
    "    frame_filename = f'C:\\Master 1\\exiobase3-manipulation\\Impact - Consommation Finale\\GES - Consommation Finale\\GES - Heatmap\\GHG_{year}.png'\n",
    "    plt.savefig(frame_filename, bbox_inches='tight')\n",
    "\n",
    "    #Pour fermer la carte thermique\n",
    "    plt.close() \n",
    "    \n"
   ]
  },
  {
   "cell_type": "markdown",
   "metadata": {},
   "source": [
    "Les couleurs sont représentées sur une échelle logarithmique. Cela permet de mieux percevoir les différences relatives entre les valeurs qui varient sur plusieurs ordres de grandeur. Cependant, même si les couleurs sont représentées en echelles logarithmique les annotations dans chaque cellules de la carte thermique et de la barre de couleurs conservent les valeurs d'origine en notation scientifique. Cette approche permet de faciliter l'interprétation des résultats. <br>\n",
    "\n",
    "\n",
    "La valeur maximale de la barre de couleurs représente le niveau maximum des émissions de GES associées à la consommation finale toutes régions et périodes confondues. Cette valeur correspond au niveau d'emissions de GES emise par la Chine pour répondre à sa propre consommation finale avec une valeur de 12 140 022 287 455 kg CO2 eq. (environ 12 140 Mt CO2 eq.) en 2021. <br>\n",
    "\n",
    "De plus, la barre de couleurs est saturée en blanc pour toutes les valeurs en dessous de 1 000 000 000 kg CO2 eq. (environ 1 000 Mt CO2 eq.) afin de faciliter la distinction visuelle entre les régions très émettrices et celles moins émettrices. Cela permet de mettre en évidence les differences d'emissions entre ces deux catégories de régions. De plus, les émissions de GES associées à la consommation finale varient énormémment d'une région et d'une période à l'autre en couvrant différents ordres de grandeur. Cette saturation permet de focaliser nos observations sur les valeurs les plus élevées mettant en lumière l'augmentation des émissions des régions peu émettrices au cours du temps et les niveaux élevés d'émissions des régions les plus émettrices. "
   ]
  },
  {
   "cell_type": "markdown",
   "metadata": {},
   "source": [
    "### Création GIF"
   ]
  },
  {
   "cell_type": "code",
   "execution_count": 4,
   "metadata": {},
   "outputs": [],
   "source": [
    "#Initialisation : liste vide pour stocker les images créées\n",
    "images = []\n",
    "\n",
    "#Création d'une boucle pour chaque année du dictionnaire 'dfs'\n",
    "for year in dfs.keys():\n",
    "    frame_filename = f'C:\\Master 1\\exiobase3-manipulation\\Impact - Consommation Finale\\GES - Consommation Finale\\GES - Heatmap\\GHG_{year}.png'\n",
    "    #Charge l'image et l'ajoute à la liste 'images'\n",
    "    images.append(imageio.imread(frame_filename))\n",
    "\n",
    "#Nom du fichier GIF\n",
    "gif_filename = 'GHG_FinalConso_Heatmap.gif'\n",
    "\n",
    "#Création du GIF\n",
    "imageio.mimsave(gif_filename, images, duration=1000, loop=0)"
   ]
  },
  {
   "cell_type": "markdown",
   "metadata": {},
   "source": [
    "#### Justification de l'utilisation de cartes thermiques pour visualiser l'évolution des émissions de GES de 1995 à 2022.\n",
    "\n",
    "J'ai décidé d'utiliser des cartes thermiques pour représenter visuellement l'évolution de l'impact des GES associé à la consommation finale de 1995 à 2022. <br>\n",
    "\n",
    "La carte thermique permet de visualiser plus facilement l'intensité des émissions de GES associés à la consommation finale pour chaque région, avec un dégradé de couleurs du rouge au blanc. Cela permet de visualiser facilement les régions les plus émétrices, mais également d'identifier les régions qui dépendent le plus de la production de GES des autres régions pour répondre à leur niveau de consommation finale, en affichant ces régions en rouges vif. <br>\n",
    "\n",
    "L'utilisation de carte thermique pour chaque année entre 1995 et 2022 permet également de suivre l'évolution des émissions de GES dans le temps et identifier les tendances, comme l'augmentation des émissions de GES dans certaines régions. <br>\n",
    "\n",
    "De plus, la structure matricielle de la carte thermique permet de visualiser plus facilement les flux d'émissions entre les régions sources et réceptrices. Cela permet de mettre en avant les interdépendances commerciales entre les régions. De même, l'évolution des cartes thermiques entre 1995 et 2022 permet d'observer l'augmentation des échanges commerciaux destinés à la consommation finale et l'augmentation des émissions associés et reflètent l'ouverture commerciales de certains pays comme l'Inde.  <br>"
   ]
  }
 ],
 "metadata": {
  "kernelspec": {
   "display_name": "base",
   "language": "python",
   "name": "python3"
  },
  "language_info": {
   "codemirror_mode": {
    "name": "ipython",
    "version": 3
   },
   "file_extension": ".py",
   "mimetype": "text/x-python",
   "name": "python",
   "nbconvert_exporter": "python",
   "pygments_lexer": "ipython3",
   "version": "3.11.7"
  }
 },
 "nbformat": 4,
 "nbformat_minor": 2
}
