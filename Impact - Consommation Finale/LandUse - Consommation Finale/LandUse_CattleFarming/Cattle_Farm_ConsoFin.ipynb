{
 "cells": [
  {
   "cell_type": "markdown",
   "metadata": {},
   "source": [
    "## Creation de cartes thermiques permettant d'observer la quantité de terres associées à la production du secteur bovin de chaque région source et destinés à la consommation finale de chaque région réceptrice."
   ]
  },
  {
   "cell_type": "markdown",
   "metadata": {},
   "source": [
    "#### Vocabulaire:\n",
    "\n",
    "**Regions sources:** les régions qui utilisent une quantité de terres pour produire des biens destinés à la consommation finale, que ce soit pour leur propre consommation interne ou pour l'exportation vers d'autres régions.\n",
    "Les cartes thermiques permettent de visualiser le niveau d'exploitation intensive des régions sources pour répondre aux besoins de production.\n",
    "\n",
    "**Régions réceptrices:** les régions qui importent des biens qui ont nécessité l'utilisation de terres dans leur production. \n",
    "Les cartes thermiques permettent de visualiser les régions réceptrices qui dépendent des importations pour satisfaire leur propre consommation finale en biens nécessitant une utilisation intensive des terres.\n",
    "\n",
    "**Importations de terres :** Les régions réceptrices importent des terres virtuellement à travers les biens qu'elles importent pour satisfaire leur propre consommation finale. Cela signifie que ces régions utilisent des ressources terrestres situées à l'extérieur de leurs frontières pour produire des biens consommés localement.\n",
    "\n",
    "**Exportations de terres :** Les régions sources exportent des terres virtuelles en produisant des biens destinés à la consommation finale dans d'autres régions. Cela implique que ces régions utilisent leurs ressources terrestres internes pour produire des biens exportés vers d'autres régions."
   ]
  },
  {
   "cell_type": "code",
   "execution_count": 3,
   "metadata": {},
   "outputs": [],
   "source": [
    "import pandas as pd\n",
    "import seaborn as sns\n",
    "import matplotlib.pyplot as plt\n",
    "from matplotlib.colors import LogNorm\n",
    "import imageio\n"
   ]
  },
  {
   "cell_type": "markdown",
   "metadata": {},
   "source": [
    "#### Chargement des bases de données néttoyées"
   ]
  },
  {
   "cell_type": "code",
   "execution_count": 1,
   "metadata": {},
   "outputs": [],
   "source": [
    "#Fonction pour charger les bases de données CSV\n",
    "def load(year):\n",
    "    df = pd.read_csv(f'C:\\Master 1\\exiobase3-manipulation\\Impact - Consommation Finale\\LandUse - Consommation Finale\\LandUse_CattleFarming\\LandUse_Data\\df_CattleFarm_{year}.csv')\n",
    "\n",
    "    return df"
   ]
  },
  {
   "cell_type": "code",
   "execution_count": 4,
   "metadata": {},
   "outputs": [],
   "source": [
    "#Chargement des bases de données\n",
    "df_1995 = load(1995)\n",
    "df_2002 = load(2002)\n",
    "df_2009 = load(2009)\n",
    "df_2016 = load(2016)\n",
    "df_2022 = load(2022)"
   ]
  },
  {
   "cell_type": "markdown",
   "metadata": {},
   "source": [
    "#### Creation des cartes thermiques pour l'année 1995, 2002, 2009, 2016 et 2022."
   ]
  },
  {
   "cell_type": "code",
   "execution_count": 5,
   "metadata": {},
   "outputs": [],
   "source": [
    "#Dictionnaire qui permet d'associer une année à une DataFrame\n",
    "dfs = {\n",
    "    1995: df_1995,\n",
    "    2002: df_2002,\n",
    "    2009: df_2009,\n",
    "    2016: df_2016,\n",
    "    2022: df_2022}\n",
    "\n",
    "#Création d'astériques\n",
    "regions_ast = [\"Afrique$^{1}$\", \"Chine\", \"Etats-Unis\", \"Asie Pacifique$^{2}$\", \n",
    "    \"Amérique Latine\\net Caraïbes$^{3}$\", \"Brésil\", \"Russie\", \"Mexique\", \n",
    "    \"Australie\", \"Moyen-Orient$^{4}$\", \"Union\\neuropéenne$^{5}$\", \n",
    "    \"Europe$^{6}$\", \"Canada\", \"Inde\", \"Indonésie\", \"Japon\"]\n",
    "\n",
    "\n",
    "#Boucle pour chaque année dans le dictionnaire 'dfs'\n",
    "for year, df in dfs.items():\n",
    "    #Ajouter les astèriques pour les lignes et les colonnes\n",
    "    df.columns = regions_ast\n",
    "    df.index = regions_ast\n",
    "    #Label des lignes et des colonnes\n",
    "    df.columns.name = \"Région réceptrice d'utilisation des terres\"\n",
    "    df.index.name = \"Région source d'utilisation des terres associées à la production du secteur bovin\"\n",
    "    \n",
    "    #Modifier la taille de la carte thermique\n",
    "    plt.figure(figsize=(30, 15))\n",
    "    \n",
    "    #Création d'une carte thermique \n",
    "    sns.heatmap(df, norm=LogNorm(vmin=5E02, vmax=6.3E06),\n",
    "                annot=True, cmap='YlOrRd', linewidths=0.1,\n",
    "                cbar_kws={'label': 'Utilisation des terres (terres agricoles, forêts et pâturages (en km2)'})\n",
    "    \n",
    "    #Titre de la carte thermique\n",
    "    plt.title(f\"Utilisation des terres issues de la production du secteur bovin associés à la consommation finale par région en {year}\", fontsize=14, fontweight='bold', y=-0.09)\n",
    "\n",
    "    #Permet d'ajuster la position des éléments de la carte thermique\n",
    "    plt.subplots_adjust(bottom=0.3)\n",
    "    \n",
    "    #Création des notes en bas de pages associées aux astériques\n",
    "    plt.figtext(0.05, 0.07, \"$^{1}$ Afrique hors Egypte.\", fontsize=10)\n",
    "    plt.figtext(0.05, 0.06, \"$^{2}$ Asie Pacifique hors Chine, Inde, Japon, Australie et Indonésie.\", fontsize=10)\n",
    "    plt.figtext(0.05, 0.05, '$^{3}$ Amérique Latine et Caraïbes hors Brésil et Mexique', fontsize=10)\n",
    "    plt.figtext(0.05, 0.04, '$^{4}$ Moyen-Orient hors Turquie.', fontsize=10)\n",
    "    plt.figtext(0.05, 0.03, \"$^{5}$ Représente les 27 pays actuels de l'Union européenne, indépendamment de l'année représentée.\", fontsize=10)\n",
    "    plt.figtext(0.05, 0.02, \"$^{6}$ Europe hors les pays membres de l'UE et Russie.\", fontsize=10)\n",
    "\n",
    "    #Ajuster l'espacement des éléments de la carte thermique\n",
    "    plt.tight_layout(rect=[0, 0.1, 1, 0.95])\n",
    "    \n",
    "    #Sauvegarder la carte de thermique\n",
    "    frame_filename = f'C:\\Master 1\\exiobase3-manipulation\\Impact - Consommation Finale\\LandUse - Consommation Finale\\LandUse_CattleFarming\\LandUse_CattleFarm_heatmap\\LandUse_CattleFarm_{year}.png'\n",
    "    plt.savefig(frame_filename, bbox_inches='tight')\n",
    "\n",
    "    #Pour fermer la carte thermique\n",
    "    plt.close()\n"
   ]
  },
  {
   "cell_type": "markdown",
   "metadata": {},
   "source": [
    "#### Création du GIF\n",
    "\n",
    "Ce GIF permet de visualiser plus facilement l'évolution des quantités de terres exploitées pour la production du secteur bovin en km² par chaque région source pour répondre à la consommation finale des régions réceptrices entre 1995 et 2022."
   ]
  },
  {
   "cell_type": "code",
   "execution_count": 6,
   "metadata": {},
   "outputs": [
    {
     "name": "stderr",
     "output_type": "stream",
     "text": [
      "C:\\Users\\Marie\\AppData\\Local\\Temp\\ipykernel_41676\\4154452397.py:8: DeprecationWarning: Starting with ImageIO v3 the behavior of this function will switch to that of iio.v3.imread. To keep the current behavior (and make this warning disappear) use `import imageio.v2 as imageio` or call `imageio.v2.imread` directly.\n",
      "  images.append(imageio.imread(frame_filename))\n"
     ]
    }
   ],
   "source": [
    "#Initialisation : liste vide pour stocker les images créées\n",
    "images = []\n",
    "\n",
    "#Création d'une boucle pour chaque année du dictionnaire 'dfs'\n",
    "for year in dfs.keys():\n",
    "    frame_filename = f'C:\\Master 1\\exiobase3-manipulation\\Impact - Consommation Finale\\LandUse - Consommation Finale\\LandUse_CattleFarming\\LandUse_CattleFarm_heatmap\\LandUse_CattleFarm_{year}.png'\n",
    "    #Charge l'image et l'ajoute à la liste 'images'\n",
    "    images.append(imageio.imread(frame_filename))\n",
    "\n",
    "#Nom du fichier GIF\n",
    "gif_filename = 'LandUse_CattleFarm_heatmap.gif'\n",
    "\n",
    "#Création du GIF\n",
    "imageio.mimsave(gif_filename, images, duration=1000, loop=0)"
   ]
  },
  {
   "cell_type": "markdown",
   "metadata": {},
   "source": [
    "#### Observations:\n",
    "\n",
    "Grâce à ce code, nous avons créé des cartes thermiques pour les années 1995, 2002, 2009, 2016 et 2022 afin de visualiser l'évolution des quantités de terres exploitées pour la production du secteur bovin en km² par chaque région source pour répondre à la consommation finale des régions réceptrices.\n",
    "\n",
    "Nous observons que l'utilisation des terres issues de la production du secteur bovin est très élevée en Afrique. En effet, c'est la région qui exploite le plus ses terres internes pour répondre à sa propre consommation finale au cours du temps. C'est également une des régions qui utilise  ces terres internes associées à la production du secteur bovin pour répondre aux besoins de consommation finale de l'Union européenne et du Moyen-Orient, mais aussi dans une moindre mesure de la Chine, des États-Unis et de l'Asie-Pacifique.\n",
    "\n",
    "L'Asie-Pacifique, l'Amérique Latine et les Caraïbes, ainsi que l'Australie, sont également des régions qui utilisent une grande quantité de leurs terres internes associées à la production du secteur bovin pour répondre à la consommation finale des régions réceptrices.\n",
    "\n",
    "À l'opposé, certaines régions comme le Canada, l'Inde, l'Indonésie et le Japon n'utilisent pas une grande quantité de leurs terres internes pour répondre à la consommation finale d'autres régions réceptrices.\n",
    "\n",
    "Nous observons également que certaines régions réceptrices nécessitent une grande quantité de terres externes utilisées issues de la production du secteur bovin pour répondre à leur niveau de consommation finale, telles que la Chine, les États-Unis, l'Asie-Pacifique, le Moyen-Orient et l'Union européenne.\n",
    "\n",
    "Ces cartes thermiques expriment la quantité de terres utilisés pour la production du secteur bovin en valeur absolue et permet d'identifier au fil du temps le niveau d'intensification de l'utilisation des terres pour chacune de nos régions.\n",
    "\n",
    "Ces cartes thermiques montrent uniquement les quantités de terres internes utilisées par chaque région en valeur absolue, que ce soit pour leur propre consommation finale interne ou pour celle d'autres régions. Il est normal que la quantité de terres internes utilisée par le Japon soit moindre que celle de l'Afrique, en raison de la taille du territoire, mais également de l'urbanisation et de la densité de population. C'est pourquoi il pourrait être intéressant de normaliser ces données par la superficie et le nombre d'habitants par km² de chaque région. Cela permettrait de déterminer la proportion relative de terres associées à la production du secteur bovin utilisée par chaque région source, en tenant compte de la taille du territoire et de son urbanisation. Cette approche permettrait de mieux comprendre les impacts environmentaux liés à l'utilisation des terres associées à la production du secteur bovin en prenant en compte les différence de taille et d'urbanisation des régions.\n",
    "\n",
    "De plus, à la suite de notre travail, nous avons décidé de normaliser les lignes de nos DataFrames par la quantité totale de terres internes utilisées dans chaque région source. Cela nous permet de déterminer la part des terres internes d'une région utilisée pour sa propre consommation finale par rapport à la part destinée à la consommation finale des autres régions. Cela met en lumière la dépendance de chaque région sur ses propres ressources terrestres et son rôle en tant qu'exportateur de produits du secteur bovin. \n",
    "\n",
    "Nous avons également décidé de normaliser chaque colonne de notre DataFrame en fonction de la somme des valeurs de cette colonne. Cela permet de visualiser la proportion de la consommation finale de chaque région satisfaite par l'utilisation de terres internes par rapport à l'utilisation de terres externes. Cela permet de comprendre la dépendance des régions importatrices vis-à-vis des terres utilisées à l'extérieur de leurs frontières pour satisfaire leur propre consommation finale.\n",
    "\n",
    "Ces deux approches permettent de mieux comprendre l'auto-suffisance ou la dépendance d'une région vis-à-vis de ses terres internes pour la production bovine. Cette approche permet également de visualiser la dynamique des échanges de terres virtuelles entre les régions, en identifiant les principales régions exportatrices et importatrices au fil du temps.\n"
   ]
  }
 ],
 "metadata": {
  "kernelspec": {
   "display_name": "base",
   "language": "python",
   "name": "python3"
  },
  "language_info": {
   "codemirror_mode": {
    "name": "ipython",
    "version": 3
   },
   "file_extension": ".py",
   "mimetype": "text/x-python",
   "name": "python",
   "nbconvert_exporter": "python",
   "pygments_lexer": "ipython3",
   "version": "3.11.7"
  }
 },
 "nbformat": 4,
 "nbformat_minor": 2
}
