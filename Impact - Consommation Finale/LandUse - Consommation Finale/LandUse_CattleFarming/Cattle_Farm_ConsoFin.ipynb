{
 "cells": [
  {
   "cell_type": "code",
   "execution_count": 13,
   "metadata": {},
   "outputs": [],
   "source": [
    "import pymrio\n",
    "import pandas as pd\n",
    "import seaborn as sns\n",
    "import matplotlib.pyplot as plt\n",
    "from matplotlib.colors import LogNorm\n",
    "import os\n",
    "import imageio\n"
   ]
  },
  {
   "cell_type": "code",
   "execution_count": 6,
   "metadata": {},
   "outputs": [],
   "source": [
    "def load(year):\n",
    "    df = pd.read_csv(f'C:\\Master 1\\Stage\\Exio3\\df_CattleFarm_{year}.csv')\n",
    "\n",
    "    return df"
   ]
  },
  {
   "cell_type": "code",
   "execution_count": 7,
   "metadata": {},
   "outputs": [],
   "source": [
    "df_1995 = load(1995)\n",
    "df_2002 = load(2002)\n",
    "df_2009 = load(2009)\n",
    "df_2016 = load(2016)\n",
    "df_2022 = load(2022)"
   ]
  },
  {
   "cell_type": "code",
   "execution_count": 17,
   "metadata": {},
   "outputs": [],
   "source": [
    "# Chargement des bases de données de 1995 à 2022\n",
    "# Creation d'un dictionnaire 'dfs' qui associe chaque année à une DataFrame en utilisant la fonction load\n",
    "dfs = {\n",
    "    1995: df_1995,\n",
    "    2002: df_2002,\n",
    "    2009: df_2009,\n",
    "    2016: df_2016,\n",
    "    2022: df_2022}\n",
    "\n",
    "# Création d'astériques\n",
    "regions_ast = [\"Afrique$^{1}$\", \"Chine\", \"Etats-Unis\", \"Asie Pacifique$^{2}$\", \n",
    "    \"Amérique Latine\\net Caraïbes$^{3}$\", \"Brésil\", \"Russie\", \"Mexique\", \n",
    "    \"Australie\", \"Moyen-Orient$^{4}$\", \"Union\\neuropéenne$^{5}$\", \n",
    "    \"Europe$^{6}$\", \"Canada\", \"Inde\", \"Indonésie\", \"Japon\"]\n",
    "\n",
    "# Création d'un répertoire 'GHG_heatmap' pour enregistrer les cartes thermiques\n",
    "os.makedirs('LandUse_CattleFarm_heatmap', exist_ok=True)\n",
    "\n",
    "# Création d'une boucle pour chaque année dans le dictionnaire 'dfs'\n",
    "for year, df in dfs.items():\n",
    "    # Modifier le noms des régions des colonnes et des lignes avec la liste 'region_ast'\n",
    "    df.columns = regions_ast\n",
    "    df.index = regions_ast\n",
    "    # Donner un nom aux colonnes et aux lignes\n",
    "    df.columns.name = \"Région réceptrice d'émissions de GES\"\n",
    "    df.index.name = \"Région source d'émission de GES\"\n",
    "    \n",
    "    # Modifier la taille de la carte thermique\n",
    "    plt.figure(figsize=(30, 15))\n",
    "    \n",
    "    # Création d'une carte thermique des DataFrames\n",
    "    sns.heatmap(df, norm=LogNorm(vmin=5E02, vmax=6.3E06),\n",
    "                annot=True, cmap='YlOrRd', linewidths=0.1,\n",
    "                cbar_kws={'label': 'Emissions de GES (kg CO2 eq)'})\n",
    "    \n",
    "    # Titre de la carte thermique\n",
    "    plt.title(f\"Emissions de gaz à effet de serre associés à la consommation finale par région en {year}\", fontsize=14, fontweight='bold', y=-0.09)\n",
    "\n",
    "    # Permet d'ajuster la position des éléments de la carte thermique\n",
    "    plt.subplots_adjust(bottom=0.3)\n",
    "    \n",
    "    # Création des notes en bas de pages associées aux astériques\n",
    "    plt.figtext(0.05, 0.07, \"$^{1}$ Afrique hors Egypte.\", fontsize=10)\n",
    "    plt.figtext(0.05, 0.06, \"$^{2}$ Asie Pacifique hors Chine, Inde, Japon, Australie et Indonésie.\", fontsize=10)\n",
    "    plt.figtext(0.05, 0.05, '$^{3}$ Amérique Latine et Caraïbes hors Brésil et Mexique', fontsize=10)\n",
    "    plt.figtext(0.05, 0.04, '$^{4}$ Moyen-Orient hors Turquie.', fontsize=10)\n",
    "    plt.figtext(0.05, 0.03, \"$^{5}$ Représente les 27 pays actuels de l'Union européenne, indépendamment de l'année représentée.\", fontsize=10)\n",
    "    plt.figtext(0.05, 0.02, \"$^{6}$ Europe hors les pays membres de l'UE et Russie.\", fontsize=10)\n",
    "\n",
    "    # Ajuster l'espacement des éléments de la carte thermique\n",
    "    plt.tight_layout(rect=[0, 0.1, 1, 0.95])\n",
    "    \n",
    "    # Sauvegarder la carte de thermique\n",
    "    frame_filename = f'LandUse_CattleFarm_heatmap/LandUse_CattleFarm_{year}.png'\n",
    "    plt.savefig(frame_filename, bbox_inches='tight')\n",
    "\n",
    "    # Pour fermer la carte thermique\n",
    "    plt.close()\n"
   ]
  },
  {
   "cell_type": "code",
   "execution_count": 19,
   "metadata": {},
   "outputs": [
    {
     "name": "stderr",
     "output_type": "stream",
     "text": [
      "C:\\Users\\Marie\\AppData\\Local\\Temp\\ipykernel_34648\\1960858899.py:8: DeprecationWarning: Starting with ImageIO v3 the behavior of this function will switch to that of iio.v3.imread. To keep the current behavior (and make this warning disappear) use `import imageio.v2 as imageio` or call `imageio.v2.imread` directly.\n",
      "  images.append(imageio.imread(frame_filename))\n"
     ]
    }
   ],
   "source": [
    "#Initialisation : liste vide pour stocker les images créées\n",
    "images = []\n",
    "\n",
    "#Création d'une boucle pour chaque année du dictionnaire 'dfs'\n",
    "for year in dfs.keys():\n",
    "    frame_filename = f'LandUse_CattleFarm_heatmap/LandUse_CattleFarm_{year}.png'\n",
    "    #Charge l'image et l'ajoute à la liste 'images'\n",
    "    images.append(imageio.imread(frame_filename))\n",
    "\n",
    "#Nom du fichier GIF\n",
    "gif_filename = 'LandUse_CattleFarm_heatmap.gif'\n",
    "\n",
    "#Création du GIF\n",
    "imageio.mimsave(gif_filename, images, duration=1000, loop=0)"
   ]
  }
 ],
 "metadata": {
  "kernelspec": {
   "display_name": "base",
   "language": "python",
   "name": "python3"
  },
  "language_info": {
   "codemirror_mode": {
    "name": "ipython",
    "version": 3
   },
   "file_extension": ".py",
   "mimetype": "text/x-python",
   "name": "python",
   "nbconvert_exporter": "python",
   "pygments_lexer": "ipython3",
   "version": "3.11.7"
  }
 },
 "nbformat": 4,
 "nbformat_minor": 2
}
