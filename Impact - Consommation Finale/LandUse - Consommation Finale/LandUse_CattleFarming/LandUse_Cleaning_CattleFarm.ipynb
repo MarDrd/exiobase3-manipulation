{
 "cells": [
  {
   "cell_type": "code",
   "execution_count": 133,
   "metadata": {},
   "outputs": [],
   "source": [
    "import pymrio\n",
    "import pandas as pd\n",
    "import seaborn as sns\n",
    "import matplotlib.pyplot as plt\n",
    "from matplotlib.colors import LogNorm\n",
    "import os"
   ]
  },
  {
   "cell_type": "code",
   "execution_count": 137,
   "metadata": {},
   "outputs": [],
   "source": [
    "def load(year):\n",
    "    path = f\"C:/Master 1/Stage/EXIOBASE3/IOT_{year}_ixi.zip\"\n",
    "    exio3 = pymrio.parse_exiobase3(path=path)\n",
    "\n",
    "    diag_GHG = exio3.impacts.diag_stressor('Land use Crop, Forest, Pasture')\n",
    "\n",
    "    exio3.GHG_source = diag_GHG\n",
    "\n",
    "    exio3.calc_all()\n",
    "\n",
    "    df = exio3.GHG_source.D_cba.loc[(slice(None), 'Cattle farming'), :].groupby(level='region', axis=1).sum()\n",
    "\n",
    "    new_index = [x[0] if isinstance(x, tuple) else x for x in df.index]\n",
    "\n",
    "    df.index = new_index\n",
    "\n",
    "    UE = ['AT', 'BE', 'BG', 'CZ', 'DE', 'DK', 'EE', 'ES', 'FI', 'FR', 'GR', 'HR', 'HU', 'IE', 'IT', \n",
    "        'LT', 'LU', 'LV', 'MT', 'NL', 'NO', 'PL', 'PT', 'RO', 'SE', 'SI', 'SK']\n",
    "    MO = ['WM', 'CY']\n",
    "    Europe = ['WE', 'CH', 'TR', 'GB']\n",
    "    Asie_Pacifique = ['WA', 'TW', 'KR']\n",
    "    Afrique = ['WF', 'ZA']\n",
    "\n",
    "    #Création de nouvelles colonnes pour chaque nouvelle région\n",
    "    df['UE'] = df[UE].sum(axis=1)\n",
    "    df['Moyen-Orient'] = df[MO].sum(axis=1)\n",
    "    df['Europe'] = df[Europe].sum(axis=1)\n",
    "    df['Asie Pacifique'] = df[Asie_Pacifique].sum(axis=1)\n",
    "    df['Afrique'] = df[Afrique].sum(axis=1)\n",
    "\n",
    "    #Création de nouvelles lignes pour chaque nouvelle région\n",
    "    df.loc['UE'] = df.loc[UE].sum()\n",
    "    df.loc['Moyen-Orient'] = df.loc[MO].sum()\n",
    "    df.loc['Europe'] = df.loc[Europe].sum()\n",
    "    df.loc['Asie Pacifique'] = df.loc[Asie_Pacifique].sum()\n",
    "    df.loc['Afrique'] = df.loc[Afrique].sum()\n",
    "\n",
    "    #Supprime les lignes et colonnes des pays individuels inclus dans les nouvelles régions créées.\n",
    "    df = df.drop(UE + MO + Europe + Asie_Pacifique + Afrique, axis=0)\n",
    "    df = df.drop(UE + MO + Europe + Asie_Pacifique + Afrique, axis=1)\n",
    "\n",
    "    order = [\"Afrique\", \"CN\", \"US\", \"Asie Pacifique\", \"WL\", \"BR\", \"RU\", \"MX\", \"AU\",\"Moyen-Orient\",  \"UE\",  \"Europe\", \"CA\", \"IN\", \"ID\", \"JP\"]\n",
    "    df = pd.DataFrame(df, index=order)\n",
    "    df = df[order]\n",
    "\n",
    "    region = [\"Afrique\", \"Chine\",\"Etats-Unis\", \"Asie Pacifique\",  \"Amérique Latine et Caraïbes\", \"Brésil\", \"Russie\", \"Mexique\", \"Australie\", \"Moyen-Orient\", \"Union européenne\",  \"Europe\", \"Canada\", \"Inde\", \"Indonésie\", \"Japon\" ]\n",
    "    df.columns = region\n",
    "    df.index = region\n",
    "\n",
    "    df_imp = df.sum(axis=0)\n",
    "    \n",
    "    #Division de chaque éléments des colonnes par la somme obtenue précedemment et mettre en pourcentage\n",
    "    df1_norm = df.div(df_imp, axis=1) * 100\n",
    "        \n",
    "    df1_norm\n",
    "\n",
    "    df_exp = df.sum(axis=1)\n",
    "    \n",
    "    #Division de chaque éléments des colonnes par la somme obtenue précedemment et mettre en pourcentage\n",
    "    df2_norm = df.div(df_exp, axis=0) * 100\n",
    "        \n",
    "    df2_norm\n",
    "\n",
    "    return df2_norm\n"
   ]
  },
  {
   "cell_type": "code",
   "execution_count": 146,
   "metadata": {},
   "outputs": [
    {
     "name": "stderr",
     "output_type": "stream",
     "text": [
      "c:\\Users\\Marie\\anaconda3\\Lib\\site-packages\\pymrio\\core\\mriosystem.py:900: FutureWarning: DataFrame.groupby with axis=1 is deprecated. Do `frame.T.groupby(...)` without axis instead.\n",
      "  Y_agg = Y.groupby(level=\"region\", axis=1, sort=False).sum()\n",
      "c:\\Users\\Marie\\anaconda3\\Lib\\site-packages\\pymrio\\core\\mriosystem.py:956: FutureWarning: DataFrame.groupby with axis=1 is deprecated. Do `frame.T.groupby(...)` without axis instead.\n",
      "  F_Y_agg = self.F_Y.groupby(level=\"region\", axis=1, sort=False).sum()\n",
      "c:\\Users\\Marie\\anaconda3\\Lib\\site-packages\\pymrio\\core\\mriosystem.py:900: FutureWarning: DataFrame.groupby with axis=1 is deprecated. Do `frame.T.groupby(...)` without axis instead.\n",
      "  Y_agg = Y.groupby(level=\"region\", axis=1, sort=False).sum()\n",
      "c:\\Users\\Marie\\anaconda3\\Lib\\site-packages\\pymrio\\core\\mriosystem.py:956: FutureWarning: DataFrame.groupby with axis=1 is deprecated. Do `frame.T.groupby(...)` without axis instead.\n",
      "  F_Y_agg = self.F_Y.groupby(level=\"region\", axis=1, sort=False).sum()\n",
      "c:\\Users\\Marie\\anaconda3\\Lib\\site-packages\\pymrio\\core\\mriosystem.py:900: FutureWarning: DataFrame.groupby with axis=1 is deprecated. Do `frame.T.groupby(...)` without axis instead.\n",
      "  Y_agg = Y.groupby(level=\"region\", axis=1, sort=False).sum()\n",
      "c:\\Users\\Marie\\anaconda3\\Lib\\site-packages\\pymrio\\core\\mriosystem.py:984: FutureWarning: DataFrame.groupby with axis=1 is deprecated. Do `frame.T.groupby(...)` without axis instead.\n",
      "  self.D_cba.groupby(level=\"region\", axis=1, sort=False).sum()\n",
      "c:\\Users\\Marie\\anaconda3\\Lib\\site-packages\\pymrio\\core\\mriosystem.py:993: FutureWarning: DataFrame.groupby with axis=1 is deprecated. Do `frame.T.groupby(...)` without axis instead.\n",
      "  self.D_pba.groupby(level=\"region\", axis=1, sort=False).sum()\n",
      "c:\\Users\\Marie\\anaconda3\\Lib\\site-packages\\pymrio\\core\\mriosystem.py:1001: FutureWarning: DataFrame.groupby with axis=1 is deprecated. Do `frame.T.groupby(...)` without axis instead.\n",
      "  self.D_imp_reg = self.D_imp.groupby(\n",
      "c:\\Users\\Marie\\anaconda3\\Lib\\site-packages\\pymrio\\core\\mriosystem.py:1007: FutureWarning: DataFrame.groupby with axis=1 is deprecated. Do `frame.T.groupby(...)` without axis instead.\n",
      "  self.D_exp_reg = self.D_exp.groupby(\n",
      "C:\\Users\\Marie\\AppData\\Local\\Temp\\ipykernel_34608\\2765680745.py:11: FutureWarning: DataFrame.groupby with axis=1 is deprecated. Do `frame.T.groupby(...)` without axis instead.\n",
      "  df = exio3.GHG_source.D_cba.loc[(slice(None), 'Cattle farming'), :].groupby(level='region', axis=1).sum()\n"
     ]
    }
   ],
   "source": [
    "df2_norm = load(2022)"
   ]
  },
  {
   "cell_type": "code",
   "execution_count": 147,
   "metadata": {},
   "outputs": [],
   "source": [
    "df2_norm.to_csv('df_CattleFarm_Exp_2022.csv')\n"
   ]
  },
  {
   "cell_type": "code",
   "execution_count": null,
   "metadata": {},
   "outputs": [],
   "source": []
  }
 ],
 "metadata": {
  "kernelspec": {
   "display_name": "base",
   "language": "python",
   "name": "python3"
  },
  "language_info": {
   "codemirror_mode": {
    "name": "ipython",
    "version": 3
   },
   "file_extension": ".py",
   "mimetype": "text/x-python",
   "name": "python",
   "nbconvert_exporter": "python",
   "pygments_lexer": "ipython3",
   "version": "3.11.7"
  }
 },
 "nbformat": 4,
 "nbformat_minor": 2
}
