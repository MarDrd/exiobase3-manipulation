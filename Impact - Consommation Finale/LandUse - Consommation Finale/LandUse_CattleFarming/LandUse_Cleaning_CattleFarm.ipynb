{
 "cells": [
  {
   "cell_type": "markdown",
   "metadata": {},
   "source": [
    "# Nettoyage des données EXIOBASE3 pour le secteur de l'élevage bovin.\n",
    "\n",
    "Nettoyage des données d'EXIOBASE3 pour obtenir les DataFrames correspondant aux quantités de terres utilisées dans la production de biens provenant du secteur bovin (comme le pâturage des bovins) et destinées à la consommation finale des régions réceptrices.\n",
    "\n",
    "#### Vocabulaire:\n",
    "\n",
    "**Regions sources:** les régions qui utilisent une quantité de terres pour produire des biens destinés à la consommation finale, que ce soit pour leur propre consommation interne ou pour l'exportation vers d'autres régions.\n",
    "Les cartes thermiques permettent de visualiser le niveau d'exploitation intensive des régions sources pour répondre aux besoins de production.\n",
    "\n",
    "**Régions réceptrices:** les régions qui importent des biens qui ont nécessité l'utilisation de terres dans leur production. \n",
    "Les cartes thermiques permettent de visualiser les régions réceptrices qui dépendent des importations pour satisfaire leur propre consommation finale en biens nécessitant une utilisation intensive des terres.\n",
    "\n",
    "**Importations de terres :** Les régions réceptrices importent des terres virtuellement à travers les biens qu'elles importent pour satisfaire leur propre consommation finale. Cela signifie que ces régions utilisent des ressources terrestres situées à l'extérieur de leurs frontières pour produire des biens consommés localement.\n",
    "\n",
    "**Exportations de terres :** Les régions sources exportent des terres virtuelles en produisant des biens destinés à la consommation finale dans d'autres régions. Cela implique que ces régions utilisent leurs ressources terrestres internes pour produire des biens exportés vers d'autres régions.\n"
   ]
  },
  {
   "cell_type": "code",
   "execution_count": 133,
   "metadata": {},
   "outputs": [],
   "source": [
    "#importations\n",
    "import pymrio\n",
    "import pandas as pd"
   ]
  },
  {
   "cell_type": "code",
   "execution_count": 137,
   "metadata": {},
   "outputs": [],
   "source": [
    "#Fonction load qui prend 'year' comme argument\n",
    "def load(year):\n",
    "    #Chargement des donnée EXIOBASE3 pour chaque année\n",
    "    path = f\"C:/Master 1/Stage/EXIOBASE3/IOT_{year}_ixi.zip\"\n",
    "    exio3 = pymrio.parse_exiobase3(path=path)\n",
    "\n",
    "    #Diagonalisation de l'impact associé à l'utilisation des terres\n",
    "    diag_GHG = exio3.impacts.diag_stressor('Land use Crop, Forest, Pasture')\n",
    "\n",
    "    #Les valeurs de la diagonalisation sont attribués à 'exio3.GHG_source'\n",
    "    exio3.GHG_source = diag_GHG\n",
    "\n",
    "    #Commande pymrio qui permet de compléter les parties manquantes de EXIOBASE3\n",
    "    exio3.calc_all()\n",
    "\n",
    "    #Conserve uniquement le secteur bovin tous les pays de la DataFrame\n",
    "    #Regroupe pour les colonnes tous les secteurs pour toutes les régions en additionnant leurs valeurs\n",
    "    df = exio3.GHG_source.D_cba.loc[(slice(None), 'Cattle farming'), :].groupby(level='region', axis=1).sum()\n",
    "\n",
    "    #Pour les lignes ne garder que le noms des régions afin d'enlever le Multindex\n",
    "    new_index = [x[0] if isinstance(x, tuple) else x for x in df.index]\n",
    "    df.index = new_index\n",
    "\n",
    "    #Formation de liste pour former de nouvelles régions\n",
    "    UE = ['AT', 'BE', 'BG', 'CZ', 'DE', 'DK', 'EE', 'ES', 'FI', 'FR', 'GR', 'HR', 'HU', 'IE', 'IT', \n",
    "        'LT', 'LU', 'LV', 'MT', 'NL', 'NO', 'PL', 'PT', 'RO', 'SE', 'SI', 'SK']\n",
    "    MO = ['WM', 'CY']\n",
    "    Europe = ['WE', 'CH', 'TR', 'GB']\n",
    "    Asie_Pacifique = ['WA', 'TW', 'KR']\n",
    "    Afrique = ['WF', 'ZA']\n",
    "\n",
    "    #Création de nouvelles colonnes pour chaque nouvelle région\n",
    "    df['UE'] = df[UE].sum(axis=1)\n",
    "    df['Moyen-Orient'] = df[MO].sum(axis=1)\n",
    "    df['Europe'] = df[Europe].sum(axis=1)\n",
    "    df['Asie Pacifique'] = df[Asie_Pacifique].sum(axis=1)\n",
    "    df['Afrique'] = df[Afrique].sum(axis=1)\n",
    "\n",
    "    #Création de nouvelles lignes pour chaque nouvelle région\n",
    "    df.loc['UE'] = df.loc[UE].sum()\n",
    "    df.loc['Moyen-Orient'] = df.loc[MO].sum()\n",
    "    df.loc['Europe'] = df.loc[Europe].sum()\n",
    "    df.loc['Asie Pacifique'] = df.loc[Asie_Pacifique].sum()\n",
    "    df.loc['Afrique'] = df.loc[Afrique].sum()\n",
    "\n",
    "    #Supprime les lignes et colonnes des pays individuels inclus dans les nouvelles régions créées.\n",
    "    df = df.drop(UE + MO + Europe + Asie_Pacifique + Afrique, axis=0)\n",
    "    df = df.drop(UE + MO + Europe + Asie_Pacifique + Afrique, axis=1)\n",
    "\n",
    "    #Réorganise l'ordre des pays de la DataFrame pour les lignes et les colonnes\n",
    "    order = [\"Afrique\", \"CN\", \"US\", \"Asie Pacifique\", \"WL\", \"BR\", \"RU\", \"MX\", \"AU\",\"Moyen-Orient\",  \"UE\",  \"Europe\", \"CA\", \"IN\", \"ID\", \"JP\"]\n",
    "    df = pd.DataFrame(df, index=order)\n",
    "    df = df[order]\n",
    "\n",
    "    #Renomme le noms des lignes et des colonnes pour rendre la DataFrame plus compréhensible\n",
    "    region = [\"Afrique\", \"Chine\",\"Etats-Unis\", \"Asie Pacifique\",  \"Amérique Latine et Caraïbes\", \"Brésil\", \"Russie\", \"Mexique\", \"Australie\", \"Moyen-Orient\", \"Union européenne\",  \"Europe\", \"Canada\", \"Inde\", \"Indonésie\", \"Japon\" ]\n",
    "    df.columns = region\n",
    "    df.index = region\n",
    "\n",
    "    #Calculer la somme de chaque ligne de la DataFrame pour cette année \n",
    "    df_imp = df.sum(axis=0)\n",
    "    \n",
    "    #Division de chaque éléments des lignes par la somme obtenue précedemment et mettre en pourcentage\n",
    "    df1_norm = df.div(df_imp, axis=1) * 100\n",
    "\n",
    "    #Calculer la somme de chaque colonne de la DataFrame pour cette année \n",
    "    df_exp = df.sum(axis=1)\n",
    "    \n",
    "    #Division de chaque éléments des colonnes par la somme obtenue précedemment et mettre en pourcentage\n",
    "    df2_norm = df.div(df_exp, axis=0) * 100\n",
    "\n",
    "    #Résult de la fonction load\n",
    "    return df, df1_norm, df2_norm\n"
   ]
  },
  {
   "cell_type": "markdown",
   "metadata": {},
   "source": [
    "#### Étapes du nettoyage : <br>\n",
    "1. Choisir le stresseur ou l'impact qui nous intéresse pour notre analyse. Ici nous utilisons l'impact lié à l'utilisation des terres (agricoles, forêts et pâturages).\n",
    "2. Diagonalisation de ce même stresseur/impact. Dans ce cas, cela permet d'exprimer la quantité des terres utilisées de chaque secteur et chaque région dans une matrice diagonale.\n",
    "3. On multiplie la matrice diagonale avec la matrice de consommation finale 'D_cba'. On obtient ainsi une matrice qui détaille pour chaque région source (les régions situées en lignes), la quantité de terres utilisées pour la production de chaque secteur, ainsi que les quantités de terres utilisées par les régions réceptrices (les régions situées en colonnes) pour répondre à leur consommation finale.\n",
    "4. On nettoie cette nouvelle matrice en ne conservant que les quantités de terres utilisées par les régions sources pour la production du secteur bovin. De plus, on agrège tous les secteurs des régions réceptrices.\n",
    "5. Réduire le nombre de régions pour diminuer la taille de la DataFrame afin de la rendre plus visible lors de la représentation visuelle. Pour cela, nous gardons certaines régions telles qu'elles sont définies dans EXIOBASE3, comme la Chine, les États-Unis, l'Inde, la Russie, l'Indonésie, le Japon, le Mexique, le Brésil et le Canada. Cependant, nous regroupons :\n",
    "   - Tous les pays de l'Union européenne dans la région \"Union européenne\".\n",
    "   - Tous les pays européens qui ne font pas partie de l'Union européenne dans la région 'Europe'.\n",
    "   - Tous les pays du Moyen-Orient (hors la Turquie qui est déjà comprise dans la région \"Europe\") dans la région 'Moyen-Orient'.\n",
    "   - Tous les pays d'Asie-Pacifique (hors le Japon, la Chine, l'Inde et l'Indonésie) dans la région 'Asie-Pacifique'.\n",
    "   - Tous les pays d'Afrique (hors l'Égypte qui est déjà comptabilisée dans la région 'Moyen-Orient') dans la région 'Afrique'.\n",
    "   \n",
    "   Cela permet de réduire le nombre de régions dans notre DataFrame de 49 à 16.\n",
    "   \n",
    "6. On normalise la matrice en sommant chaque ligne, puis on divise chaque valeur de la ligne par cette somme. Cela permet d'obtenir la part des quantités de terres internes des régions sources utilisées pour leur propre consommation finale ou pour les exportations vers les autres régions réceptrices afin de répondre à leur consommation finale.\n",
    "7. On normalise la matrice en sommant chaque colonne, puis on divise chaque valeur de la colonne par cette somme. Cela permet de visualiser la part des terres utilisées qui sont locales ou externes par les régions réceptrices pour répondre à leur consommation finale, et donc de voir la part des importations pour chaque région réceptrice.\n",
    "\n",
    "La liste détaillée des pays regroupés dans les 49 régions des données EXIOBASE3 peut être consultée à ce [lien](https://github.com/MarDrd/exiobase3-manipulation/blob/main/R%C3%A9gions.ipynb).\n",
    "\n",
    "La liste détaillée des pays regroupés dans les 16 nouvelles régions peut être consultée à ce [lien](https://github.com/MarDrd/exiobase3-manipulation/blob/main/Impact%20-%20Consommation%20Finale/R%C3%A9gion%20Description/Composition_Regions.ipynb).\n"
   ]
  },
  {
   "cell_type": "code",
   "execution_count": 146,
   "metadata": {},
   "outputs": [
    {
     "name": "stderr",
     "output_type": "stream",
     "text": [
      "c:\\Users\\Marie\\anaconda3\\Lib\\site-packages\\pymrio\\core\\mriosystem.py:900: FutureWarning: DataFrame.groupby with axis=1 is deprecated. Do `frame.T.groupby(...)` without axis instead.\n",
      "  Y_agg = Y.groupby(level=\"region\", axis=1, sort=False).sum()\n",
      "c:\\Users\\Marie\\anaconda3\\Lib\\site-packages\\pymrio\\core\\mriosystem.py:956: FutureWarning: DataFrame.groupby with axis=1 is deprecated. Do `frame.T.groupby(...)` without axis instead.\n",
      "  F_Y_agg = self.F_Y.groupby(level=\"region\", axis=1, sort=False).sum()\n",
      "c:\\Users\\Marie\\anaconda3\\Lib\\site-packages\\pymrio\\core\\mriosystem.py:900: FutureWarning: DataFrame.groupby with axis=1 is deprecated. Do `frame.T.groupby(...)` without axis instead.\n",
      "  Y_agg = Y.groupby(level=\"region\", axis=1, sort=False).sum()\n",
      "c:\\Users\\Marie\\anaconda3\\Lib\\site-packages\\pymrio\\core\\mriosystem.py:956: FutureWarning: DataFrame.groupby with axis=1 is deprecated. Do `frame.T.groupby(...)` without axis instead.\n",
      "  F_Y_agg = self.F_Y.groupby(level=\"region\", axis=1, sort=False).sum()\n",
      "c:\\Users\\Marie\\anaconda3\\Lib\\site-packages\\pymrio\\core\\mriosystem.py:900: FutureWarning: DataFrame.groupby with axis=1 is deprecated. Do `frame.T.groupby(...)` without axis instead.\n",
      "  Y_agg = Y.groupby(level=\"region\", axis=1, sort=False).sum()\n",
      "c:\\Users\\Marie\\anaconda3\\Lib\\site-packages\\pymrio\\core\\mriosystem.py:984: FutureWarning: DataFrame.groupby with axis=1 is deprecated. Do `frame.T.groupby(...)` without axis instead.\n",
      "  self.D_cba.groupby(level=\"region\", axis=1, sort=False).sum()\n",
      "c:\\Users\\Marie\\anaconda3\\Lib\\site-packages\\pymrio\\core\\mriosystem.py:993: FutureWarning: DataFrame.groupby with axis=1 is deprecated. Do `frame.T.groupby(...)` without axis instead.\n",
      "  self.D_pba.groupby(level=\"region\", axis=1, sort=False).sum()\n",
      "c:\\Users\\Marie\\anaconda3\\Lib\\site-packages\\pymrio\\core\\mriosystem.py:1001: FutureWarning: DataFrame.groupby with axis=1 is deprecated. Do `frame.T.groupby(...)` without axis instead.\n",
      "  self.D_imp_reg = self.D_imp.groupby(\n",
      "c:\\Users\\Marie\\anaconda3\\Lib\\site-packages\\pymrio\\core\\mriosystem.py:1007: FutureWarning: DataFrame.groupby with axis=1 is deprecated. Do `frame.T.groupby(...)` without axis instead.\n",
      "  self.D_exp_reg = self.D_exp.groupby(\n",
      "C:\\Users\\Marie\\AppData\\Local\\Temp\\ipykernel_34608\\2765680745.py:11: FutureWarning: DataFrame.groupby with axis=1 is deprecated. Do `frame.T.groupby(...)` without axis instead.\n",
      "  df = exio3.GHG_source.D_cba.loc[(slice(None), 'Cattle farming'), :].groupby(level='region', axis=1).sum()\n"
     ]
    }
   ],
   "source": [
    "#Chargements des nouvelles bases de données\n",
    "df, df1_norm, df2_norm = load(2022)"
   ]
  },
  {
   "cell_type": "code",
   "execution_count": 147,
   "metadata": {},
   "outputs": [],
   "source": [
    "#Enregistre chaque base de données en format CSV\n",
    "df.to_csv('df_CattleFarm_2022.csv')\n",
    "df1_norm.to_csv('df_CattleFarm_Imp_2022.csv')\n",
    "df2_norm.to_csv('df_CattleFarm_Exp_2022.csv')"
   ]
  }
 ],
 "metadata": {
  "kernelspec": {
   "display_name": "base",
   "language": "python",
   "name": "python3"
  },
  "language_info": {
   "codemirror_mode": {
    "name": "ipython",
    "version": 3
   },
   "file_extension": ".py",
   "mimetype": "text/x-python",
   "name": "python",
   "nbconvert_exporter": "python",
   "pygments_lexer": "ipython3",
   "version": "3.11.7"
  }
 },
 "nbformat": 4,
 "nbformat_minor": 2
}
