{
 "cells": [
  {
   "cell_type": "markdown",
   "metadata": {},
   "source": [
    "# Librairie Pymrio\n",
    "\n",
    "Pymrio est une librairie sur Python qui permet de télécharger, manipuler et analyser des bases de données de tableaux entrées-sorties multi-régionaux environnementaux (EE MRIO) avec un accès libre telles que EXIOBASE, WIOD, EORA26 et OECD-ICIO.\n",
    "\n",
    "[Lien](https://github.com/IndEcol/pymrio) du dêpot GitHup contenant le code source de Pymrio.\n",
    "\n",
    "[Lien](https://pymrio.readthedocs.io/en/latest/) de la documentation supplémentaire sur la librairie Pymrio.\n",
    "\n",
    "[Lien](https://openresearchsoftware.metajnl.com/articles/10.5334/jors.251)\n",
    "\n"
   ]
  },
  {
   "cell_type": "markdown",
   "metadata": {},
   "source": [
    "Pour installer le package Pymrio: <br>\n",
    "pip install pymrio --upgrade"
   ]
  },
  {
   "cell_type": "code",
   "execution_count": 1,
   "metadata": {},
   "outputs": [],
   "source": [
    "#importation de la librairie Pymrio\n",
    "import pymrio"
   ]
  },
  {
   "cell_type": "code",
   "execution_count": null,
   "metadata": {},
   "outputs": [],
   "source": []
  }
 ],
 "metadata": {
  "kernelspec": {
   "display_name": "base",
   "language": "python",
   "name": "python3"
  },
  "language_info": {
   "codemirror_mode": {
    "name": "ipython",
    "version": 3
   },
   "file_extension": ".py",
   "mimetype": "text/x-python",
   "name": "python",
   "nbconvert_exporter": "python",
   "pygments_lexer": "ipython3",
   "version": "3.11.7"
  }
 },
 "nbformat": 4,
 "nbformat_minor": 2
}
