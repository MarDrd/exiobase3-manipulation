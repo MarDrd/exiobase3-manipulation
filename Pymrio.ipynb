{
 "cells": [
  {
   "cell_type": "markdown",
   "metadata": {},
   "source": [
    "# Librairie Pymrio\n",
    "\n",
    "Dire à quoi coorespond pymrio\n",
    "\n",
    "Rediriger vers le github avec tous les liens\n",
    "\n"
   ]
  },
  {
   "cell_type": "markdown",
   "metadata": {},
   "source": [
    "pip install pymrio --upgrade"
   ]
  }
 ],
 "metadata": {
  "language_info": {
   "name": "python"
  }
 },
 "nbformat": 4,
 "nbformat_minor": 2
}
